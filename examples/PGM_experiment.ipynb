{
 "cells": [
  {
   "cell_type": "code",
   "execution_count": null,
   "id": "09856ef5-7f36-4140-b02f-dcd51bf36e9a",
   "metadata": {},
   "outputs": [],
   "source": [
    "import sys\n",
    "\n",
    "%load_ext autoreload\n",
    "%load_ext line_profiler\n",
    "%autoreload 2\n",
    "\n",
    "\n",
    "sys.path.append(\"..\")"
   ]
  },
  {
   "cell_type": "code",
   "execution_count": null,
   "id": "global-parcel",
   "metadata": {
    "ExecuteTime": {
     "end_time": "2022-05-25T10:04:29.604016Z",
     "start_time": "2022-05-25T10:04:28.158022Z"
    }
   },
   "outputs": [],
   "source": [
    "import os\n",
    "\n",
    "import matplotlib.pyplot as plt\n",
    "import numpy as np\n",
    "from joblib import Parallel, delayed\n",
    "from matplotlib import rc\n",
    "from problems import FDS, FDS_CONSTRAINED, JOS1, JOS1_L1, SD\n",
    "from tqdm.notebook import tqdm\n",
    "from zfista import minimize_proximal_gradient"
   ]
  },
  {
   "cell_type": "code",
   "execution_count": null,
   "id": "outside-recommendation",
   "metadata": {
    "ExecuteTime": {
     "end_time": "2022-05-25T10:04:30.113483Z",
     "start_time": "2022-05-25T10:04:30.075204Z"
    }
   },
   "outputs": [],
   "source": [
    "def generate_start_points(low, high, n_dims, n_samples=1000):\n",
    "    return [\n",
    "        np.random.uniform(low=low, high=high, size=n_dims) for _ in range(n_samples)\n",
    "    ]\n",
    "\n",
    "\n",
    "def run(\n",
    "    problem,\n",
    "    start_points,\n",
    "    tol=1e-5,\n",
    "    nesterov=False,\n",
    "    nesterov_ratio=(0, 0.25),\n",
    "    n_jobs=-1,\n",
    "    verbose=False,\n",
    "):\n",
    "    results = Parallel(n_jobs=n_jobs, verbose=10)(\n",
    "        delayed(minimize_proximal_gradient)(\n",
    "            problem.f,\n",
    "            problem.g,\n",
    "            problem.jac_f,\n",
    "            problem.prox_wsum_g,\n",
    "            x0,\n",
    "            tol=tol,\n",
    "            nesterov=nesterov,\n",
    "            nesterov_ratio=nesterov_ratio,\n",
    "            return_all=True,\n",
    "            verbose=verbose,\n",
    "        )\n",
    "        for x0 in start_points\n",
    "    )\n",
    "    return results\n",
    "\n",
    "\n",
    "def show_Pareto_front(\n",
    "    problem,\n",
    "    results,\n",
    "    results_nesterov,\n",
    "    step=None,\n",
    "    s=15,\n",
    "    alpha=0.75,\n",
    "    fname=None,\n",
    "    elev=15,\n",
    "    azim=130,\n",
    "    linewidths=0.1,\n",
    "):\n",
    "    labels = [\n",
    "        \"Starting points\",\n",
    "        f\"PGM ($k={step}$)\",\n",
    "        f\"Acc-PGM ($k={step}$)\",\n",
    "        \"PGM (Solutions)\",\n",
    "        \"Acc-PGM (Solutions)\",\n",
    "    ]\n",
    "    fig = plt.figure(figsize=(7.5, 7.5), dpi=100)\n",
    "    if problem.m_dims == 2:\n",
    "        ax = fig.add_subplot(111)\n",
    "        fig.subplots_adjust(left=0, right=1, bottom=0, top=1)\n",
    "    if problem.m_dims == 3:\n",
    "        ax = fig.add_subplot(111, projection=\"3d\", clip_on=True)\n",
    "        ax.view_init(elev=elev, azim=azim)\n",
    "        fig.subplots_adjust(left=0, right=1, bottom=0, top=0.6)\n",
    "    for i, (result, result_acc) in tqdm(enumerate(zip(results, results_nesterov))):\n",
    "        allvecs = result.allvecs\n",
    "        allvecs_acc = result_acc.allvecs\n",
    "        x0 = allvecs[0]\n",
    "        F_of_x0 = problem.f(x0) + problem.g(x0)\n",
    "        if step is not None:\n",
    "            xk = allvecs[step]\n",
    "            xk_acc = allvecs_acc[step]\n",
    "            F_of_xk = problem.f(xk) + problem.g(xk)\n",
    "            F_of_xk_acc = problem.f(xk_acc) + problem.g(xk_acc)\n",
    "        F_pareto = result.fun\n",
    "        F_pareto_acc = result_acc.fun\n",
    "        if problem.m_dims == 2:\n",
    "            ax.scatter(\n",
    "                *F_of_x0,\n",
    "                color=\"#8e44ad\",\n",
    "                marker=\"x\",\n",
    "                label=labels[0],\n",
    "                s=s,\n",
    "                alpha=alpha,\n",
    "                linewidths=linewidths,\n",
    "            )\n",
    "            if step is not None:\n",
    "                ax.scatter(\n",
    "                    *F_of_xk,\n",
    "                    color=\"#2980b9\",\n",
    "                    marker=\"<\",\n",
    "                    label=labels[1],\n",
    "                    s=s,\n",
    "                    alpha=alpha,\n",
    "                    linewidths=linewidths,\n",
    "                )\n",
    "                ax.scatter(\n",
    "                    *F_of_xk_acc,\n",
    "                    facecolors=\"none\",\n",
    "                    edgecolor=\"#e74c3c\",\n",
    "                    marker=\"*\",\n",
    "                    label=labels[2],\n",
    "                    s=s,\n",
    "                    alpha=alpha,\n",
    "                    linewidths=linewidths,\n",
    "                )\n",
    "        ax.scatter(\n",
    "            *F_pareto,\n",
    "            color=\"#2980b9\",\n",
    "            marker=\".\",\n",
    "            label=labels[3],\n",
    "            s=s,\n",
    "            alpha=alpha,\n",
    "            linewidths=linewidths,\n",
    "        )\n",
    "        ax.scatter(\n",
    "            *F_pareto_acc,\n",
    "            facecolors=\"none\",\n",
    "            edgecolors=\"#e74c3c\",\n",
    "            marker=\"D\",\n",
    "            label=labels[4],\n",
    "            s=s,\n",
    "            alpha=alpha,\n",
    "            linewidths=linewidths,\n",
    "        )\n",
    "    ax.set_xlabel(r\"$F_1$\", fontsize=15)\n",
    "    ax.set_ylabel(r\"$F_2$\", fontsize=15)\n",
    "    if problem.m_dims == 3:\n",
    "        ax.set_zlabel(r\"$F_3$\", fontsize=15)\n",
    "        ax.legend(labels[-2:], bbox_transform=ax.transData)\n",
    "    elif step is None:\n",
    "        ax.legend([labels[0]] + labels[-2:])\n",
    "    else:\n",
    "        ax.legend(labels)\n",
    "    if fname is not None:\n",
    "        plt.savefig(fig_path + \"/\" + fname, bbox_inches=\"tight\")\n",
    "\n",
    "\n",
    "def get_stats(results):\n",
    "    nits = [result.nit for result in results]\n",
    "    nit_internals = [result.nit_internal for result in results]\n",
    "    execution_times = [result.execution_time for result in results]\n",
    "    stats = {\n",
    "        \"nit\": {\"mean\": np.mean(nits), \"std\": np.std(nits), \"max\": np.max(nits)},\n",
    "        \"nit_internal\": {\n",
    "            \"mean\": np.mean(nit_internals),\n",
    "            \"std\": np.std(nit_internals),\n",
    "            \"max\": np.max(nit_internals),\n",
    "        },\n",
    "        \"execusion_time\": {\n",
    "            \"mean\": np.mean(execution_times),\n",
    "            \"std\": np.std(execution_times),\n",
    "            \"max\": np.max(execution_times),\n",
    "        },\n",
    "    }\n",
    "    return stats"
   ]
  },
  {
   "cell_type": "markdown",
   "id": "legal-louisiana",
   "metadata": {},
   "source": [
    "## JOS1\n",
    "Minimize\n",
    "$$\n",
    "f_1(x) = \\frac{1}{n} \\| x \\|_2^2, \\quad f_2(x) = \\frac{1}{n} \\| x - 2\\|_2^2\n",
    "$$\n",
    "subject to $x \\in \\mathbf{R^n}$."
   ]
  },
  {
   "cell_type": "code",
   "execution_count": null,
   "id": "running-indicator",
   "metadata": {
    "ExecuteTime": {
     "end_time": "2022-05-25T10:04:30.147882Z",
     "start_time": "2022-05-25T10:04:30.116810Z"
    }
   },
   "outputs": [],
   "source": [
    "n_dims = 50\n",
    "problem_JOS1 = JOS1(n_dims=n_dims)\n",
    "start_points_JOS1 = generate_start_points(low=-2, high=4, n_dims=n_dims)"
   ]
  },
  {
   "cell_type": "markdown",
   "id": "brown-interval",
   "metadata": {},
   "source": [
    "### Proximal Gradient Method"
   ]
  },
  {
   "cell_type": "code",
   "execution_count": null,
   "id": "intellectual-latter",
   "metadata": {
    "ExecuteTime": {
     "end_time": "2022-05-25T10:36:59.451401Z",
     "start_time": "2022-05-25T10:04:31.488101Z"
    },
    "scrolled": true
   },
   "outputs": [],
   "source": [
    "results_JOS1 = run(problem_JOS1, start_points_JOS1)"
   ]
  },
  {
   "cell_type": "markdown",
   "id": "patient-vector",
   "metadata": {},
   "source": [
    "### Accelerated Proximal Gradient Method"
   ]
  },
  {
   "cell_type": "code",
   "execution_count": null,
   "id": "miniature-indianapolis",
   "metadata": {
    "ExecuteTime": {
     "end_time": "2022-05-25T10:44:27.233638Z",
     "start_time": "2022-05-25T10:36:59.460904Z"
    }
   },
   "outputs": [],
   "source": [
    "results_acc_JOS1 = run(problem_JOS1, start_points_JOS1, nesterov=True)"
   ]
  },
  {
   "cell_type": "markdown",
   "id": "lined-lancaster",
   "metadata": {},
   "source": [
    "### Complexity"
   ]
  },
  {
   "cell_type": "code",
   "execution_count": null,
   "id": "former-bishop",
   "metadata": {
    "ExecuteTime": {
     "end_time": "2022-05-25T10:44:27.385223Z",
     "start_time": "2022-05-25T10:44:27.237434Z"
    }
   },
   "outputs": [],
   "source": [
    "import pprint\n",
    "\n",
    "stats_JOS1 = {\"PGM\": get_stats(results_JOS1), \"Acc-PGM\": get_stats(results_acc_JOS1)}\n",
    "pprint.pprint(stats_JOS1)"
   ]
  },
  {
   "cell_type": "code",
   "execution_count": null,
   "id": "organizational-option",
   "metadata": {
    "ExecuteTime": {
     "end_time": "2022-05-25T10:45:54.340219Z",
     "start_time": "2022-05-25T10:44:27.390608Z"
    }
   },
   "outputs": [],
   "source": [
    "show_Pareto_front(\n",
    "    problem_JOS1, results_JOS1, results_acc_JOS1, step=10, fname=\"JOS1.pdf\"\n",
    ")"
   ]
  },
  {
   "cell_type": "code",
   "execution_count": null,
   "id": "e08cd507",
   "metadata": {
    "ExecuteTime": {
     "end_time": "2022-05-25T11:14:08.157023Z",
     "start_time": "2022-05-25T11:14:05.900797Z"
    }
   },
   "outputs": [],
   "source": [
    "plt.yscale(\"log\")\n",
    "plt.xlabel(r\"$k$\", fontsize=15)\n",
    "plt.ylabel(r\"$\\|x^k - y^k\\|_\\infty$\", fontsize=15)\n",
    "plt.plot(\n",
    "    results_JOS1[0].all_error_criteria, color=\"#2980b9\", label=\"PGM\", linestyle=\"dashed\"\n",
    ")\n",
    "plt.plot(results_acc_JOS1[0].all_error_criteria, color=\"#e74c3c\", label=\"Acc-PGM\")\n",
    "plt.legend()\n",
    "plt.savefig(fig_path + \"/JOS1_error.pdf\", bbox_inches=\"tight\")"
   ]
  },
  {
   "cell_type": "markdown",
   "id": "broken-nickname",
   "metadata": {},
   "source": [
    "## JOS1 + $\\ell_1$ penalty\n",
    "Minimize\n",
    "$$\n",
    "F_1(x) = \\frac{1}{n} \\| x \\|_2^2 + \\frac{1}{n} \\|x\\|_1, \\quad F_2(x) = \\frac{1}{n} \\| x - 2\\|_2^2 + \\frac{1}{2n} \\|x - 1\\|_1\n",
    "$$\n",
    "subject to $x \\in \\mathbf{R}^n$."
   ]
  },
  {
   "cell_type": "code",
   "execution_count": null,
   "id": "racial-uruguay",
   "metadata": {
    "ExecuteTime": {
     "end_time": "2022-05-25T11:16:18.696313Z",
     "start_time": "2022-05-25T11:16:18.628662Z"
    }
   },
   "outputs": [],
   "source": [
    "n_dims = 50\n",
    "problem_JOS1_L1 = JOS1_L1(n_dims=n_dims, l1_ratios=(1 / n_dims, 1 / n_dims / 2))\n",
    "start_points_JOS1_L1 = generate_start_points(low=-2, high=4, n_dims=n_dims)"
   ]
  },
  {
   "cell_type": "markdown",
   "id": "commercial-terrorist",
   "metadata": {},
   "source": [
    "### Proximal Gradient Method"
   ]
  },
  {
   "cell_type": "code",
   "execution_count": null,
   "id": "effective-death",
   "metadata": {
    "ExecuteTime": {
     "end_time": "2022-05-25T11:43:52.682919Z",
     "start_time": "2022-05-25T11:16:19.885604Z"
    }
   },
   "outputs": [],
   "source": [
    "results_JOS1_L1 = run(problem_JOS1_L1, start_points_JOS1_L1)"
   ]
  },
  {
   "cell_type": "markdown",
   "id": "first-dayton",
   "metadata": {},
   "source": [
    "### Accelerated Proximal Gradient Method"
   ]
  },
  {
   "cell_type": "code",
   "execution_count": null,
   "id": "wound-happiness",
   "metadata": {
    "ExecuteTime": {
     "end_time": "2022-05-25T12:01:45.069561Z",
     "start_time": "2022-05-25T11:43:52.688065Z"
    },
    "scrolled": true
   },
   "outputs": [],
   "source": [
    "results_acc_JOS1_L1 = run(problem_JOS1_L1, start_points_JOS1_L1, nesterov=True)"
   ]
  },
  {
   "cell_type": "markdown",
   "id": "cardiac-bikini",
   "metadata": {},
   "source": [
    "### Complexity"
   ]
  },
  {
   "cell_type": "code",
   "execution_count": null,
   "id": "north-melbourne",
   "metadata": {
    "ExecuteTime": {
     "end_time": "2022-05-25T12:01:45.118579Z",
     "start_time": "2022-05-25T12:01:45.072785Z"
    }
   },
   "outputs": [],
   "source": [
    "stats_JOS1_L1 = {\n",
    "    \"PGM\": get_stats(results_JOS1_L1),\n",
    "    \"Acc-PGM\": get_stats(results_acc_JOS1_L1),\n",
    "}\n",
    "pprint.pprint(stats_JOS1_L1)"
   ]
  },
  {
   "cell_type": "code",
   "execution_count": null,
   "id": "bibliographic-lighter",
   "metadata": {
    "ExecuteTime": {
     "end_time": "2022-05-25T12:03:09.727235Z",
     "start_time": "2022-05-25T12:01:45.125592Z"
    }
   },
   "outputs": [],
   "source": [
    "show_Pareto_front(\n",
    "    problem_JOS1_L1, results_JOS1_L1, results_acc_JOS1_L1, step=10, fname=\"JOS1_L1.pdf\"\n",
    ")"
   ]
  },
  {
   "cell_type": "code",
   "execution_count": null,
   "id": "4b8dcf6d",
   "metadata": {
    "ExecuteTime": {
     "end_time": "2022-05-25T12:03:10.620454Z",
     "start_time": "2022-05-25T12:03:09.729811Z"
    }
   },
   "outputs": [],
   "source": [
    "plt.yscale(\"log\")\n",
    "plt.xlabel(r\"$k$\", fontsize=15)\n",
    "plt.ylabel(r\"$\\|x^k - y^k\\|_\\infty$\", fontsize=15)\n",
    "plt.plot(\n",
    "    results_JOS1_L1[0].all_error_criteria,\n",
    "    color=\"#2980b9\",\n",
    "    label=\"PGM\",\n",
    "    linestyle=\"dashed\",\n",
    ")\n",
    "plt.plot(results_acc_JOS1_L1[0].all_error_criteria, color=\"#e74c3c\", label=\"Acc-PGM\")\n",
    "plt.legend()\n",
    "plt.savefig(fig_path + \"/JOS1_L1_error.pdf\", bbox_inches=\"tight\")"
   ]
  },
  {
   "cell_type": "markdown",
   "id": "large-duration",
   "metadata": {},
   "source": [
    "## SD\n",
    "Minimize\n",
    "$$F_1(x) = 2 x_1 + \\sqrt{2} x_2 + \\sqrt{2} x_3 + x_4, \\quad F_2(x) = \\frac{2}{x_1} + \\frac{2 \\sqrt{2}}{x_2} + \\frac{2 \\sqrt{2}}{x_3} + \\frac{2}{x_4}$$\n",
    "subject to $(1, \\sqrt{2}, \\sqrt{2}, 1)^\\top \\le x \\le (3, 3, 3, 3)^\\top$."
   ]
  },
  {
   "cell_type": "code",
   "execution_count": null,
   "id": "speaking-nurse",
   "metadata": {
    "ExecuteTime": {
     "end_time": "2022-05-25T12:03:10.667910Z",
     "start_time": "2022-05-25T12:03:10.623221Z"
    }
   },
   "outputs": [],
   "source": [
    "problem_SD = SD()\n",
    "start_points_SD = generate_start_points(\n",
    "    low=problem_SD.lb, high=problem_SD.ub, n_dims=problem_SD.n_dims\n",
    ")"
   ]
  },
  {
   "cell_type": "markdown",
   "id": "upper-florida",
   "metadata": {},
   "source": [
    "### Proximal Gradient Method"
   ]
  },
  {
   "cell_type": "code",
   "execution_count": null,
   "id": "compressed-round",
   "metadata": {
    "ExecuteTime": {
     "end_time": "2022-05-25T12:09:15.697504Z",
     "start_time": "2022-05-25T12:03:10.671015Z"
    }
   },
   "outputs": [],
   "source": [
    "results_SD = run(problem_SD, start_points_SD)"
   ]
  },
  {
   "cell_type": "markdown",
   "id": "entire-strategy",
   "metadata": {},
   "source": [
    "### Accelerated Proximal Gradient Method"
   ]
  },
  {
   "cell_type": "code",
   "execution_count": null,
   "id": "affiliated-klein",
   "metadata": {
    "ExecuteTime": {
     "end_time": "2022-05-25T12:15:30.605647Z",
     "start_time": "2022-05-25T12:09:15.700728Z"
    }
   },
   "outputs": [],
   "source": [
    "results_acc_SD = run(problem_SD, start_points_SD, nesterov=True)"
   ]
  },
  {
   "cell_type": "markdown",
   "id": "engaged-kinase",
   "metadata": {},
   "source": [
    "### Complexity"
   ]
  },
  {
   "cell_type": "code",
   "execution_count": null,
   "id": "vocal-gasoline",
   "metadata": {
    "ExecuteTime": {
     "end_time": "2022-05-25T12:15:30.654952Z",
     "start_time": "2022-05-25T12:15:30.609498Z"
    }
   },
   "outputs": [],
   "source": [
    "stats_SD = {\"PGM\": get_stats(results_SD), \"Acc-PGM\": get_stats(results_acc_SD)}\n",
    "pprint.pprint(stats_SD)"
   ]
  },
  {
   "cell_type": "code",
   "execution_count": null,
   "id": "great-travel",
   "metadata": {
    "ExecuteTime": {
     "end_time": "2022-05-25T12:16:18.834073Z",
     "start_time": "2022-05-25T12:15:30.669957Z"
    }
   },
   "outputs": [],
   "source": [
    "%matplotlib inline\n",
    "show_Pareto_front(problem_SD, results_SD, results_acc_SD, fname=\"SD.pdf\")"
   ]
  },
  {
   "cell_type": "code",
   "execution_count": null,
   "id": "5c49e751",
   "metadata": {
    "ExecuteTime": {
     "end_time": "2022-05-25T12:16:20.658778Z",
     "start_time": "2022-05-25T12:16:18.836619Z"
    }
   },
   "outputs": [],
   "source": [
    "plt.yscale(\"log\")\n",
    "plt.xlabel(r\"$k$\", fontsize=15)\n",
    "plt.ylabel(r\"$\\|x^k - y^k\\|_\\infty$\", fontsize=15)\n",
    "plt.plot(\n",
    "    results_SD[0].all_error_criteria, color=\"#2980b9\", label=\"PGM\", linestyle=\"dashed\"\n",
    ")\n",
    "plt.plot(results_acc_SD[0].all_error_criteria, color=\"#e74c3c\", label=\"Acc-PGM\")\n",
    "plt.legend()\n",
    "plt.savefig(fig_path + \"/SD_error.pdf\", bbox_inches=\"tight\")"
   ]
  },
  {
   "cell_type": "markdown",
   "id": "convenient-walnut",
   "metadata": {},
   "source": [
    "## FDS\n",
    "Minimize\n",
    "$$F_1(x) = \\frac{1}{n^2} \\sum_{i = 1}^n i (x_i - i)^4, \\quad F_2(x) = \\exp \\left( \\sum_{i = 1}^n \\frac{x_i}{n} \\right) + \\|x\\|_2^2, \\quad F_3(x) = \\frac{1}{n(n + 1)} \\sum_{i = 1}^n i (n - i + 1) \\exp (- x_i)$$\n",
    "subject to $x \\in \\mathbf{R}^n$."
   ]
  },
  {
   "cell_type": "code",
   "execution_count": null,
   "id": "material-insight",
   "metadata": {
    "ExecuteTime": {
     "end_time": "2022-05-25T12:16:20.699519Z",
     "start_time": "2022-05-25T12:16:20.662316Z"
    }
   },
   "outputs": [],
   "source": [
    "n_dims = 10\n",
    "problem_FDS = FDS(n_dims=n_dims)\n",
    "start_points_FDS = generate_start_points(low=-2, high=2, n_dims=n_dims)"
   ]
  },
  {
   "cell_type": "markdown",
   "id": "rural-prague",
   "metadata": {},
   "source": [
    "### Proximal Gradient Method"
   ]
  },
  {
   "cell_type": "code",
   "execution_count": null,
   "id": "provincial-sodium",
   "metadata": {
    "ExecuteTime": {
     "end_time": "2022-05-25T15:43:35.762929Z",
     "start_time": "2022-05-25T12:16:20.702464Z"
    }
   },
   "outputs": [],
   "source": [
    "results_FDS = run(problem_FDS, start_points_FDS)"
   ]
  },
  {
   "cell_type": "markdown",
   "id": "incredible-ratio",
   "metadata": {},
   "source": [
    "### Accelerated Proximal Gradient Method"
   ]
  },
  {
   "cell_type": "code",
   "execution_count": null,
   "id": "naked-episode",
   "metadata": {
    "ExecuteTime": {
     "end_time": "2022-05-25T16:55:02.794466Z",
     "start_time": "2022-05-25T15:43:35.766394Z"
    }
   },
   "outputs": [],
   "source": [
    "results_acc_FDS = run(problem_FDS, start_points_FDS, nesterov=True)"
   ]
  },
  {
   "cell_type": "markdown",
   "id": "boolean-essence",
   "metadata": {},
   "source": [
    "### Complexity"
   ]
  },
  {
   "cell_type": "code",
   "execution_count": null,
   "id": "handled-tender",
   "metadata": {
    "ExecuteTime": {
     "end_time": "2022-05-25T16:55:02.894028Z",
     "start_time": "2022-05-25T16:55:02.798493Z"
    }
   },
   "outputs": [],
   "source": [
    "stats_FDS = {\"PGM\": get_stats(results_FDS), \"Acc-PGM\": get_stats(results_acc_FDS)}\n",
    "pprint.pprint(stats_FDS)"
   ]
  },
  {
   "cell_type": "code",
   "execution_count": null,
   "id": "indian-experiment",
   "metadata": {
    "ExecuteTime": {
     "end_time": "2022-05-25T16:55:39.918481Z",
     "start_time": "2022-05-25T16:55:02.897077Z"
    },
    "scrolled": true
   },
   "outputs": [],
   "source": [
    "%matplotlib inline\n",
    "show_Pareto_front(problem_FDS, results_FDS, results_acc_FDS, fname=\"FDS.pdf\")"
   ]
  },
  {
   "cell_type": "code",
   "execution_count": null,
   "id": "8e48ca15",
   "metadata": {
    "ExecuteTime": {
     "end_time": "2022-05-25T16:55:41.801992Z",
     "start_time": "2022-05-25T16:55:39.921743Z"
    }
   },
   "outputs": [],
   "source": [
    "plt.yscale(\"log\")\n",
    "plt.xlabel(r\"$k$\", fontsize=15)\n",
    "plt.ylabel(r\"$\\|x^k - y^k\\|_\\infty$\", fontsize=15)\n",
    "plt.plot(\n",
    "    results_FDS[0].all_error_criteria, color=\"#2980b9\", label=\"PGM\", linestyle=\"dashed\"\n",
    ")\n",
    "plt.plot(results_acc_FDS[0].all_error_criteria, color=\"#e74c3c\", label=\"Acc-PGM\")\n",
    "plt.legend()\n",
    "plt.savefig(fig_path + \"/FDS_error.pdf\", bbox_inches=\"tight\")"
   ]
  },
  {
   "cell_type": "markdown",
   "id": "4ca0b2ad",
   "metadata": {},
   "source": [
    "## FDS CONSTRAINED\n",
    "Minimize\n",
    "$$F_1(x) = \\frac{1}{n^2} \\sum_{i = 1}^n i (x_i - i)^4, \\quad F_2(x) = \\exp \\left( \\sum_{i = 1}^n \\frac{x_i}{n} \\right) + \\|x\\|_2^2, \\quad F_3(x) = \\frac{1}{n(n + 1)} \\sum_{i = 1}^n i (n - i + 1) \\exp (- x_i)$$\n",
    "subject to $x \\in \\mathbf{R}_+^n$."
   ]
  },
  {
   "cell_type": "code",
   "execution_count": null,
   "id": "coupled-worcester",
   "metadata": {
    "ExecuteTime": {
     "end_time": "2022-05-25T16:55:41.849567Z",
     "start_time": "2022-05-25T16:55:41.806701Z"
    }
   },
   "outputs": [],
   "source": [
    "n_dims = 10\n",
    "problem_FDS_CONSTRAINED = FDS_CONSTRAINED(n_dims=n_dims)\n",
    "start_points_FDS_CONSTRAINED = generate_start_points(low=0, high=2, n_dims=n_dims)"
   ]
  },
  {
   "cell_type": "code",
   "execution_count": null,
   "id": "oriental-supplier",
   "metadata": {
    "ExecuteTime": {
     "end_time": "2022-05-25T21:36:48.716952Z",
     "start_time": "2022-05-25T16:55:41.852638Z"
    }
   },
   "outputs": [],
   "source": [
    "results_FDS_CONSTRAINED = run(problem_FDS_CONSTRAINED, start_points_FDS_CONSTRAINED)"
   ]
  },
  {
   "cell_type": "code",
   "execution_count": null,
   "id": "b43ad931",
   "metadata": {
    "ExecuteTime": {
     "end_time": "2022-05-25T23:00:27.066240Z",
     "start_time": "2022-05-25T21:36:48.721160Z"
    }
   },
   "outputs": [],
   "source": [
    "results_acc_FDS_CONSTRAINED = run(\n",
    "    problem_FDS_CONSTRAINED, start_points_FDS_CONSTRAINED, nesterov=True\n",
    ")"
   ]
  },
  {
   "cell_type": "code",
   "execution_count": null,
   "id": "538ca218",
   "metadata": {
    "ExecuteTime": {
     "end_time": "2022-05-25T23:00:27.145238Z",
     "start_time": "2022-05-25T23:00:27.072471Z"
    }
   },
   "outputs": [],
   "source": [
    "stats_FDS_CONSTRAINED = {\n",
    "    \"PGM\": get_stats(results_FDS_CONSTRAINED),\n",
    "    \"Acc-PGM\": get_stats(results_acc_FDS_CONSTRAINED),\n",
    "}\n",
    "pprint.pprint(stats_FDS_CONSTRAINED)"
   ]
  },
  {
   "cell_type": "code",
   "execution_count": null,
   "id": "11fcf773",
   "metadata": {
    "ExecuteTime": {
     "end_time": "2022-05-25T23:01:04.653386Z",
     "start_time": "2022-05-25T23:00:27.148447Z"
    }
   },
   "outputs": [],
   "source": [
    "%matplotlib inline\n",
    "show_Pareto_front(\n",
    "    problem_FDS_CONSTRAINED,\n",
    "    results_FDS_CONSTRAINED,\n",
    "    results_acc_FDS_CONSTRAINED,\n",
    "    fname=\"FDS_CONSTRAINED.pdf\",\n",
    ")"
   ]
  },
  {
   "cell_type": "code",
   "execution_count": null,
   "id": "1bd61a5d",
   "metadata": {
    "ExecuteTime": {
     "end_time": "2022-05-25T23:01:05.594585Z",
     "start_time": "2022-05-25T23:01:04.657749Z"
    }
   },
   "outputs": [],
   "source": [
    "plt.yscale(\"log\")\n",
    "plt.xlabel(r\"$k$\", fontsize=15)\n",
    "plt.ylabel(r\"$\\|x^k - y^k\\|_\\infty$\", fontsize=15)\n",
    "plt.plot(\n",
    "    results_FDS_CONSTRAINED[0].all_error_criteria,\n",
    "    color=\"#2980b9\",\n",
    "    label=\"PGM\",\n",
    "    linestyle=\"dashed\",\n",
    ")\n",
    "plt.plot(\n",
    "    results_acc_FDS_CONSTRAINED[0].all_error_criteria, color=\"#e74c3c\", label=\"Acc-PGM\"\n",
    ")\n",
    "plt.legend()\n",
    "plt.savefig(fig_path + \"/FDS_CONSTRAINED_error.pdf\", bbox_inches=\"tight\")"
   ]
  },
  {
   "cell_type": "code",
   "execution_count": null,
   "id": "ae4f2fce",
   "metadata": {},
   "outputs": [],
   "source": []
  }
 ],
 "metadata": {
  "kernelspec": {
   "display_name": "Python 3 (ipykernel)",
   "language": "python",
   "name": "python3"
  },
  "language_info": {
   "codemirror_mode": {
    "name": "ipython",
    "version": 3
   },
   "file_extension": ".py",
   "mimetype": "text/x-python",
   "name": "python",
   "nbconvert_exporter": "python",
   "pygments_lexer": "ipython3",
   "version": "3.10.10"
  }
 },
 "nbformat": 4,
 "nbformat_minor": 5
}
